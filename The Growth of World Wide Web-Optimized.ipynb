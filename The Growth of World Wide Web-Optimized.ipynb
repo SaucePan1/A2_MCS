{
 "cells": [
  {
   "cell_type": "markdown",
   "metadata": {},
   "source": [
    "Growth of world wide web "
   ]
  },
  {
   "cell_type": "code",
   "execution_count": 2,
   "metadata": {},
   "outputs": [],
   "source": [
    "import numpy as np\n",
    "import matplotlib.pyplot as plt\n",
    "import time"
   ]
  },
  {
   "cell_type": "code",
   "execution_count": 3,
   "metadata": {},
   "outputs": [],
   "source": [
    "#ex 1. Start with n 100 sites just keep track of in degree of sites not which sites are linked to which.\n",
    "#create and link function\n",
    "\n",
    "# sites, t, m, p\n",
    "def Link(sites, t, m, p):\n",
    "    \"\"\"\n",
    "    Creates m links to previous sites [:t]. \n",
    "    \"\"\"\n",
    "    #probability of linking is proportional to links already on each site\n",
    "    prob = sites[:t]/sites[:t].sum()\n",
    "    for link in range(m):\n",
    "        rand = np.random.rand()\n",
    "        if rand < p:\n",
    "            #choose at random\n",
    "            linked_to = np.random.randint(0,t)\n",
    "        else:\n",
    "            #choose proportional to in degree of sites\n",
    "            linked_to = np.random.choice(range(t), size = 1, p= prob)\n",
    "        #increase by one the links of choosen site\n",
    "        sites[linked_to] += 1\n",
    "\n",
    "    return sites\n",
    "\n",
    "\n"
   ]
  },
  {
   "cell_type": "code",
   "execution_count": 4,
   "metadata": {},
   "outputs": [],
   "source": [
    "def runSim(m,p, n, T):\n",
    "    max_time =n +T\n",
    "    sites= np.ones(max_time, int)\n",
    "    for t in range(n, max_time):\n",
    "        #probability of linking is proportional to links already on each site\n",
    "        prob = sites[:t]/sites[:t].sum()\n",
    "        for link in range(m):\n",
    "            rand = np.random.rand()\n",
    "            if rand < p:\n",
    "                #choose at random\n",
    "                linked_to = np.random.randint(0,t)\n",
    "            else:\n",
    "                #choose proportional to in degree of sites\n",
    "                linked_to = np.random.choice(range(t), size = 1, p= prob)\n",
    "            #increase by one the links of choosen site\n",
    "            sites[linked_to] += 1\n",
    "\n",
    "    return sites"
   ]
  },
  {
   "cell_type": "code",
   "execution_count": 5,
   "metadata": {},
   "outputs": [
    {
     "name": "stdout",
     "output_type": "stream",
     "text": [
      "0\n",
      "8.247420072555542\n",
      "1\n",
      "14.97334599494934\n",
      "2\n",
      "22.15329631169637\n",
      "3\n",
      "29.614986777305603\n",
      "4\n",
      "36.68059597015381\n",
      "5\n",
      "44.19720550378164\n",
      "6\n",
      "51.47973585128784\n",
      "7\n",
      "58.76789239048958\n",
      "8\n",
      "65.72551899486118\n",
      "9\n",
      "72.67553360462189\n",
      "0\n",
      "366.6657564640045\n",
      "1\n",
      "188.16206401586533\n",
      "2\n",
      "130.76347251733145\n",
      "3\n",
      "103.69439613819122\n",
      "4\n",
      "88.69172151088715\n",
      "5\n",
      "79.76435492436092\n",
      "6\n",
      "74.30021800313678\n",
      "7\n",
      "70.98398481309414\n",
      "8\n",
      "69.11069599787395\n",
      "9\n",
      "68.41485744714737\n",
      "0\n",
      "458.0505950450897\n",
      "1\n",
      "231.91151781876883\n",
      "2\n",
      "157.85057446691724\n",
      "3\n",
      "121.80241266886394\n",
      "4\n",
      "101.06502459843954\n",
      "5\n",
      "89.03685283660889\n",
      "6\n",
      "80.5961994784219\n",
      "7\n",
      "74.19009991486867\n",
      "8\n",
      "69.65481821695964\n",
      "9\n",
      "66.41135903994243\n",
      "0\n",
      "499.3907272219658\n",
      "1\n",
      "251.61875739693642\n",
      "2\n",
      "169.9802641669909\n",
      "3\n",
      "129.8556402027607\n",
      "4\n",
      "106.29428240060807\n",
      "5\n",
      "91.039602826039\n",
      "6\n",
      "1989.6522258945874\n",
      "7\n",
      "1743.9801096245646\n",
      "8\n",
      "1553.5692516167958\n",
      "9\n",
      "1401.8933353722095\n",
      "0\n",
      "11216.73836479187\n",
      "1\n",
      "5610.127984309196\n",
      "2\n",
      "3742.0094287395477\n",
      "3\n",
      "2808.5043194532395\n",
      "4\n",
      "2248.8493590068815\n",
      "5\n",
      "1876.1172826608022\n",
      "6\n",
      "1610.2370173181807\n",
      "7\n",
      "1411.1267192780972\n",
      "8\n",
      "1256.5367237144046\n",
      "9\n",
      "1133.218704099655\n",
      "0\n",
      "9445.06934316953\n",
      "1\n",
      "4724.025801002979\n",
      "2\n",
      "3150.9800488286546\n",
      "3\n",
      "2364.9160834153495\n",
      "4\n",
      "1893.7351342360178\n",
      "5\n",
      "1579.4097771114773\n",
      "6\n",
      "1354.9662271227155\n",
      "7\n",
      "1187.0094298968713\n",
      "8\n",
      "1056.8732401662403\n",
      "9\n",
      "952.9563514669736\n",
      "0\n",
      "8168.857600314276\n",
      "1\n",
      "4085.3695833683014\n",
      "2\n",
      "2724.683985619318\n",
      "3\n",
      "2044.6390158959798\n",
      "4\n",
      "1636.8641244820185\n",
      "5\n",
      "1365.2384752432506\n",
      "6\n",
      "1171.4004816327777\n",
      "7\n",
      "1026.1658222121853\n",
      "8\n",
      "913.3563198589143\n",
      "9\n",
      "823.2364457845688\n",
      "0\n",
      "7203.771037638187\n",
      "1\n",
      "3602.5398658812046\n",
      "2\n",
      "2402.4324801663556\n",
      "3\n",
      "1802.5574214681983\n",
      "4\n",
      "1442.8843365490436\n",
      "5\n",
      "1203.109854688247\n",
      "6\n",
      "1031.994084247521\n",
      "7\n",
      "903.6625534854829\n",
      "8\n",
      "803.9410787622134\n",
      "9\n",
      "724.196302101016\n",
      "0\n",
      "6437.5333381228975\n",
      "1\n",
      "3219.0922048356797\n",
      "2\n",
      "2146.4128201096146\n",
      "3\n",
      "1610.1934019128482\n",
      "4\n",
      "1288.5351049105327\n",
      "5\n",
      "1074.1702966292698\n",
      "6\n",
      "921.1424812551529\n",
      "7\n",
      "806.4567322068744\n",
      "8\n",
      "717.3521548906962\n",
      "9\n",
      "646.084606801139\n",
      "0\n",
      "5814.887599205971\n",
      "1\n",
      "2907.605236959457\n",
      "2\n",
      "1938.5715308666229\n",
      "3\n",
      "1454.099768078327\n",
      "4\n",
      "1163.459625940323\n",
      "5\n",
      "969.7285735527674\n",
      "6\n",
      "831.3738826274872\n",
      "7\n",
      "727.6294230490923\n",
      "8\n",
      "646.9637283325195\n",
      "9\n",
      "582.4476061105728\n",
      "0\n",
      "5295.005353017287\n",
      "1\n",
      "2647.519008766521\n",
      "2\n",
      "1765.0251378218334\n",
      "3\n",
      "1323.7794629281218\n",
      "4\n",
      "1059.033102382313\n",
      "5\n",
      "882.5361657251011\n",
      "6\n",
      "756.4681587126348\n",
      "7\n",
      "661.9175567708232\n",
      "8\n",
      "588.3787608989561\n",
      "9\n",
      "529.5482715433294\n"
     ]
    },
    {
     "ename": "TypeError",
     "evalue": "expected str, bytes or os.PathLike object, not numpy.ndarray",
     "output_type": "error",
     "traceback": [
      "\u001b[0;31m---------------------------------------------------------------------------\u001b[0m",
      "\u001b[0;31mTypeError\u001b[0m                                 Traceback (most recent call last)",
      "\u001b[0;32m<ipython-input-5-749bea2f0f58>\u001b[0m in \u001b[0;36m<module>\u001b[0;34m\u001b[0m\n\u001b[1;32m     24\u001b[0m     \u001b[0mcount_p\u001b[0m \u001b[0;34m+=\u001b[0m\u001b[0;36m1\u001b[0m\u001b[0;34m\u001b[0m\u001b[0;34m\u001b[0m\u001b[0m\n\u001b[1;32m     25\u001b[0m \u001b[0;34m\u001b[0m\u001b[0m\n\u001b[0;32m---> 26\u001b[0;31m \u001b[0mnp\u001b[0m\u001b[0;34m.\u001b[0m\u001b[0msave\u001b[0m\u001b[0;34m(\u001b[0m\u001b[0mmp_sites\u001b[0m\u001b[0;34m,\u001b[0m \u001b[0;34m\"ex1_sites_varing_p_m\"\u001b[0m\u001b[0;34m)\u001b[0m\u001b[0;34m\u001b[0m\u001b[0;34m\u001b[0m\u001b[0m\n\u001b[0m",
      "\u001b[0;32m/Library/Frameworks/Python.framework/Versions/3.7/lib/python3.7/site-packages/numpy/lib/npyio.py\u001b[0m in \u001b[0;36msave\u001b[0;34m(file, arr, allow_pickle, fix_imports)\u001b[0m\n\u001b[1;32m    512\u001b[0m         \u001b[0mfid\u001b[0m \u001b[0;34m=\u001b[0m \u001b[0mfile\u001b[0m\u001b[0;34m\u001b[0m\u001b[0;34m\u001b[0m\u001b[0m\n\u001b[1;32m    513\u001b[0m     \u001b[0;32melse\u001b[0m\u001b[0;34m:\u001b[0m\u001b[0;34m\u001b[0m\u001b[0;34m\u001b[0m\u001b[0m\n\u001b[0;32m--> 514\u001b[0;31m         \u001b[0mfile\u001b[0m \u001b[0;34m=\u001b[0m \u001b[0mos_fspath\u001b[0m\u001b[0;34m(\u001b[0m\u001b[0mfile\u001b[0m\u001b[0;34m)\u001b[0m\u001b[0;34m\u001b[0m\u001b[0;34m\u001b[0m\u001b[0m\n\u001b[0m\u001b[1;32m    515\u001b[0m         \u001b[0;32mif\u001b[0m \u001b[0;32mnot\u001b[0m \u001b[0mfile\u001b[0m\u001b[0;34m.\u001b[0m\u001b[0mendswith\u001b[0m\u001b[0;34m(\u001b[0m\u001b[0;34m'.npy'\u001b[0m\u001b[0;34m)\u001b[0m\u001b[0;34m:\u001b[0m\u001b[0;34m\u001b[0m\u001b[0;34m\u001b[0m\u001b[0m\n\u001b[1;32m    516\u001b[0m             \u001b[0mfile\u001b[0m \u001b[0;34m=\u001b[0m \u001b[0mfile\u001b[0m \u001b[0;34m+\u001b[0m \u001b[0;34m'.npy'\u001b[0m\u001b[0;34m\u001b[0m\u001b[0;34m\u001b[0m\u001b[0m\n",
      "\u001b[0;31mTypeError\u001b[0m: expected str, bytes or os.PathLike object, not numpy.ndarray"
     ]
    }
   ],
   "source": [
    "n = 100\n",
    "T = 10000\n",
    "p = 0.5\n",
    "m=10\n",
    "max_time = T+n\n",
    "#we track the number of links to each site. The site t has sites[t] links into it.\n",
    "sites= np.ones(max_time, int)\n",
    "\n",
    "p_values = np.linspace(0,1,11)\n",
    "m_values = np.arange(1,21,2, int)\n",
    "\n",
    "mp_sites = np.zeros((p_values.size, m_values.size, max_time), int)\n",
    "\n",
    "count_p = 0\n",
    "\n",
    "start = time.time()\n",
    "for p in p_values:\n",
    "    count_m = 0\n",
    "    for m in m_values:\n",
    "        mp_sites[count_p, count_m, :] = runSim(m,p, n, T)\n",
    "        print(count_m)\n",
    "        print((time.time()- start)/((1+count_m)*(1+count_p)))\n",
    "        count_m +=1\n",
    "    count_p +=1\n",
    "\n",
    "np.save(mp_sites, \"ex1_sites_varing_p_m\")"
   ]
  },
  {
   "cell_type": "code",
   "execution_count": null,
   "metadata": {},
   "outputs": [],
   "source": [
    "np.save(mp_sites, \"sites_varing_p_m\")"
   ]
  },
  {
   "cell_type": "code",
   "execution_count": 27,
   "metadata": {},
   "outputs": [
    {
     "data": {
      "text/plain": [
       "(3,)"
      ]
     },
     "execution_count": 27,
     "metadata": {},
     "output_type": "execute_result"
    }
   ],
   "source": []
  },
  {
   "cell_type": "code",
   "execution_count": 6,
   "metadata": {},
   "outputs": [
    {
     "data": {
      "text/plain": [
       "Text(0.5, 1.0, 'Histogram ')"
      ]
     },
     "execution_count": 6,
     "metadata": {},
     "output_type": "execute_result"
    },
    {
     "data": {
      "image/png": "[encoded data removed]",
      "text/plain": [
       "<Figure size 432x288 with 1 Axes>"
      ]
     },
     "metadata": {
      "needs_background": "light"
     },
     "output_type": "display_data"
    }
   ],
   "source": [
    "#draw histogram \n",
    "n_boxes1 = 50\n",
    "freq_count, boxes = np.histogram(sites, bins= n_boxes1)\n",
    "box_center = (boxes[:-1]+ boxes[1:])/2\n",
    "plt.bar(box_center, freq_count, width=1.6)\n",
    "plt.xlabel('Number of incoming links')\n",
    "plt.ylabel('Frequency count')\n",
    "plt.title('Histogram ')"
   ]
  },
  {
   "cell_type": "code",
   "execution_count": null,
   "metadata": {},
   "outputs": [],
   "source": []
  },
  {
   "cell_type": "code",
   "execution_count": 101,
   "metadata": {},
   "outputs": [
    {
     "data": {
      "text/plain": [
       "Text(0.5, 1.0, 'Log-log plot of Percentage of Sites vs their in-degree')"
      ]
     },
     "execution_count": 101,
     "metadata": {},
     "output_type": "execute_result"
    },
    {
     "data": {
      "image/png": "[encoded data removed]",
      "text/plain": [
       "<Figure size 432x288 with 1 Axes>"
      ]
     },
     "metadata": {
      "needs_background": "light"
     },
     "output_type": "display_data"
    }
   ],
   "source": [
    "#draw log-log plot\n",
    "\n",
    "percentage_of_sites = freq_count/(max_time + n)\n",
    "plt.plot(box_center, percentage_of_sites)\n",
    "plt.xlabel(\"Number of incomming links\")\n",
    "plt.ylabel('Percentage of sites')\n",
    "plt.xscale(\"log\")\n",
    "plt.yscale('log')\n",
    "plt.title('Log-log plot of Percentage of Sites vs their in-degree')\n"
   ]
  },
  {
   "cell_type": "code",
   "execution_count": 59,
   "metadata": {},
   "outputs": [
    {
     "data": {
      "text/plain": [
       "Text(0.5, 1.0, 'Log-log plot of Percentage of Sites vs their in-degree')"
      ]
     },
     "execution_count": 59,
     "metadata": {},
     "output_type": "execute_result"
    },
    {
     "data": {
      "image/png": "[encoded data removed]",
      "text/plain": [
       "<Figure size 432x288 with 1 Axes>"
      ]
     },
     "metadata": {
      "needs_background": "light"
     },
     "output_type": "display_data"
    }
   ],
   "source": [
    "#draw log-log plot with log bins\n",
    " \n",
    "bin_pos = np.logspace(np.log(1), np.log(sites.max()), 10)\n",
    "freq_count2, boxes = np.histogram(sites, bins=bin_pos)\n",
    "box_center2 = (boxes[:-1]+ boxes[1:])/2\n",
    "\n",
    "percentage_of_sites = freq_count2/(max_time + n)\n",
    "plt.plot(box_center2, percentage_of_sites)\n",
    "plt.xlabel(\"Number of incomming links\")\n",
    "plt.ylabel('Percentage of sites')\n",
    "plt.xscale(\"log\")\n",
    "plt.yscale('log')\n",
    "plt.title('Log-log plot of Percentage of Sites vs their in-degree')\n"
   ]
  },
  {
   "cell_type": "code",
   "execution_count": 84,
   "metadata": {},
   "outputs": [
    {
     "data": {
      "text/plain": [
       "138"
      ]
     },
     "execution_count": 84,
     "metadata": {},
     "output_type": "execute_result"
    }
   ],
   "source": [
    "sites.max()"
   ]
  },
  {
   "cell_type": "markdown",
   "metadata": {},
   "source": [
    "PART 2. Exercice."
   ]
  },
  {
   "cell_type": "code",
   "execution_count": 58,
   "metadata": {},
   "outputs": [
    {
     "ename": "ValueError",
     "evalue": "could not broadcast input array from shape (200) into shape (10100)",
     "output_type": "error",
     "traceback": [
      "\u001b[0;31m---------------------------------------------------------------------------\u001b[0m",
      "\u001b[0;31mValueError\u001b[0m                                Traceback (most recent call last)",
      "\u001b[0;32m<ipython-input-58-90ebda261424>\u001b[0m in \u001b[0;36m<module>\u001b[0;34m\u001b[0m\n\u001b[1;32m     10\u001b[0m \u001b[0;32mfor\u001b[0m \u001b[0msim\u001b[0m \u001b[0;32min\u001b[0m \u001b[0mrange\u001b[0m\u001b[0;34m(\u001b[0m\u001b[0mmax_simulations\u001b[0m\u001b[0;34m)\u001b[0m\u001b[0;34m:\u001b[0m\u001b[0;34m\u001b[0m\u001b[0;34m\u001b[0m\u001b[0m\n\u001b[1;32m     11\u001b[0m     \u001b[0;32mfor\u001b[0m \u001b[0mt\u001b[0m \u001b[0;32min\u001b[0m \u001b[0mrange\u001b[0m\u001b[0;34m(\u001b[0m\u001b[0mn\u001b[0m\u001b[0;34m,\u001b[0m \u001b[0mmax_time\u001b[0m\u001b[0;34m)\u001b[0m\u001b[0;34m:\u001b[0m\u001b[0;34m\u001b[0m\u001b[0;34m\u001b[0m\u001b[0m\n\u001b[0;32m---> 12\u001b[0;31m         \u001b[0msim_sites\u001b[0m\u001b[0;34m[\u001b[0m\u001b[0msim\u001b[0m\u001b[0;34m,\u001b[0m\u001b[0;34m:\u001b[0m\u001b[0;34m]\u001b[0m \u001b[0;34m=\u001b[0m \u001b[0mLink\u001b[0m\u001b[0;34m(\u001b[0m\u001b[0msites\u001b[0m\u001b[0;34m,\u001b[0m \u001b[0mt\u001b[0m\u001b[0;34m,\u001b[0m \u001b[0mm\u001b[0m\u001b[0;34m,\u001b[0m\u001b[0mp\u001b[0m\u001b[0;34m)\u001b[0m\u001b[0;34m\u001b[0m\u001b[0;34m\u001b[0m\u001b[0m\n\u001b[0m\u001b[1;32m     13\u001b[0m \u001b[0;34m\u001b[0m\u001b[0m\n\u001b[1;32m     14\u001b[0m \u001b[0mnp\u001b[0m\u001b[0;34m.\u001b[0m\u001b[0msave\u001b[0m\u001b[0;34m(\u001b[0m\u001b[0;34m'100sim_sites_T_10100_p_01'\u001b[0m\u001b[0;34m,\u001b[0m \u001b[0msim_sites\u001b[0m\u001b[0;34m)\u001b[0m\u001b[0;34m\u001b[0m\u001b[0;34m\u001b[0m\u001b[0m\n",
      "\u001b[0;31mValueError\u001b[0m: could not broadcast input array from shape (200) into shape (10100)"
     ]
    }
   ],
   "source": [
    "#we re run the simulation at least 100 times\n",
    "n = 100\n",
    "p = 0.1\n",
    "m=10\n",
    "max_time = 10100 \n",
    "#we track the number of links to each site. The site t has sites[t] links into it.\n",
    "max_simulations= 100\n",
    "sim_sites= np.ones((max_simulations, max_time), int)\n",
    "\n",
    "for sim in range(max_simulations):\n",
    "    for t in range(n, max_time):\n",
    "        sim_sites[sim,:] = Link(sites, t, m,p)\n",
    "\n",
    "np.save('100sim_sites_T_10100_p_01', sim_sites)"
   ]
  },
  {
   "cell_type": "code",
   "execution_count": 6,
   "metadata": {},
   "outputs": [],
   "source": [
    "sim_sites = np.load(\"100sim_sites_T_10100_p_01.npy\")"
   ]
  },
  {
   "cell_type": "code",
   "execution_count": 47,
   "metadata": {},
   "outputs": [],
   "source": [
    "n_boxes = 10\n",
    "\n",
    "avg_sim = sim_sites.sum(axis=0)\n",
    "\n",
    "freq, box_edges = np.histogram(avg_sim, bins= 20)\n"
   ]
  },
  {
   "cell_type": "code",
   "execution_count": 42,
   "metadata": {},
   "outputs": [
    {
     "data": {
      "text/plain": [
       "array([1.   , 1.124, 1.248, 1.372, 1.496, 1.62 , 1.744, 1.868, 1.992,\n",
       "       2.116, 2.24 , 2.364, 2.488, 2.612, 2.736, 2.86 , 2.984, 3.108,\n",
       "       3.232, 3.356, 3.48 ])"
      ]
     },
     "execution_count": 42,
     "metadata": {},
     "output_type": "execute_result"
    }
   ],
   "source": [
    "box_edges"
   ]
  },
  {
   "cell_type": "code",
   "execution_count": 52,
   "metadata": {},
   "outputs": [
    {
     "data": {
      "text/plain": [
       "<BarContainer object of 20 artists>"
      ]
     },
     "execution_count": 52,
     "metadata": {},
     "output_type": "execute_result"
    },
    {
     "data": {
      "image/png": "[encoded data removed]",
      "text/plain": [
       "<Figure size 432x288 with 1 Axes>"
      ]
     },
     "metadata": {
      "needs_background": "light"
     },
     "output_type": "display_data"
    }
   ],
   "source": [
    "box_center = box_edges[:-1]/2 + box_edges[1:]/2\n",
    "plt.bar(box_edges[:-1], freq, width=20)"
   ]
  },
  {
   "cell_type": "code",
   "execution_count": null,
   "metadata": {},
   "outputs": [],
   "source": [
    "#ex 1. Start with n 100 sites just keep track of in degree of sites not which sites are linked to which.\n",
    "#create and link function\n",
    "\n",
    "# sites, t, m, p\n",
    "def Link(sites, t, m, p):\n",
    "    \"\"\"\n",
    "    Creates m links to previous sites [:t]. \n",
    "    \"\"\"\n",
    "    #probability of linking is proportional to links already on each site\n",
    "    prob = sites[:t]/sites[:t].sum()\n",
    "    for link in range(m):\n",
    "        rand = np.random.rand()\n",
    "        if rand < p:\n",
    "            #choose at random\n",
    "            linked_to = np.random.randint(0,t)\n",
    "        else:\n",
    "            #choose proportional to in degree of sites\n",
    "            linked_to = np.random.choice(range(t), size = 1, p= prob)\n",
    "        #increase by one the links of choosen site\n",
    "        sites[linked_to] += 1\n",
    "\n",
    "    return sites\n",
    "\n"
   ]
  },
  {
   "cell_type": "markdown",
   "metadata": {},
   "source": [
    "Working with a matrix\n"
   ]
  },
  {
   "cell_type": "code",
   "execution_count": 81,
   "metadata": {},
   "outputs": [],
   "source": [
    "#same model but now we tracl connections\n",
    "n = 10\n",
    "p = 0.5\n",
    "m=5\n",
    "max_time = 200\n",
    "\n",
    "site_connection =np.diag(np.ones(max_time))\n",
    "\n",
    "def LinkMatrix(sites, t, m, p):\n",
    "    \"\"\"\n",
    "    Creates m links to previous sites [:t] and stores the links in matrix. \n",
    "    \"\"\"\n",
    "    #\"create a new site \" by linking \n",
    "    # probability is proportional to in degree\n",
    "    in_degree = site_connection[:t,:t].sum(axis=1)\n",
    "    prob = in_degree/sites[:t,:t].sum() \n",
    "    #^get max links from shape and m, maybe save the in degree so u dont have to recalculate\n",
    "\n",
    "    for link in range(m):\n",
    "        rand = np.random.rand()\n",
    "        if(p < rand):\n",
    "            #chose at random\n",
    "            links_to = np.random.randint(0,t)\n",
    "        else:\n",
    "            links_to = np.random.choice(range(t), size = 1, p= prob)\n",
    "        #set the apropiate  link to site\n",
    "        site_connection[t,links_to] += 1\n",
    "    return site_connection\n",
    "\n",
    "    \n",
    "        \n"
   ]
  },
  {
   "cell_type": "code",
   "execution_count": null,
   "metadata": {},
   "outputs": [],
   "source": [
    "n = 5\n",
    "p = 0.5\n",
    "m=10\n",
    "T = 10000\n",
    "max_time = T+n\n",
    "site_connection =np.diag(np.ones(max_time, int))\n",
    "for t in range(n, max_time):\n",
    "    site_connection= LinkMatrix(site_connection, t, m , p)\n",
    "    \n",
    "np.save(\"ex4_site_connections\", site_connection)"
   ]
  },
  {
   "cell_type": "code",
   "execution_count": 60,
   "metadata": {},
   "outputs": [
    {
     "data": {
      "text/plain": [
       "array([[0.82998989, 0.96037879],\n",
       "       [0.14620407, 0.93851732]])"
      ]
     },
     "execution_count": 60,
     "metadata": {},
     "output_type": "execute_result"
    }
   ],
   "source": [
    "a[:2,:2] "
   ]
  },
  {
   "cell_type": "code",
   "execution_count": null,
   "metadata": {},
   "outputs": [],
   "source": []
  },
  {
   "cell_type": "code",
   "execution_count": null,
   "metadata": {},
   "outputs": [],
   "source": []
  }
 ],
 "metadata": {
  "kernelspec": {
   "display_name": "Python 3",
   "language": "python",
   "name": "python3"
  },
  "language_info": {
   "codemirror_mode": {
    "name": "ipython",
    "version": 3
   },
   "file_extension": ".py",
   "mimetype": "text/x-python",
   "name": "python",
   "nbconvert_exporter": "python",
   "pygments_lexer": "ipython3",
   "version": "3.7.3"
  }
 },
 "nbformat": 4,
 "nbformat_minor": 2
}
